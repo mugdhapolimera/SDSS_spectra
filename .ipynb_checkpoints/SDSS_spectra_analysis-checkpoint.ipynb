{
 "cells": [
  {
   "cell_type": "code",
   "execution_count": 1,
   "metadata": {
    "collapsed": false
   },
   "outputs": [],
   "source": [
    "import numpy as np\n",
    "import pandas as pd\n",
    "import astropy\n",
    "from astropy.io import fits\n",
    "from astropy import units as u\n",
    "from matplotlib import pyplot as plt\n",
    "from astropy.visualization import quantity_support\n",
    "import os \n",
    "from os import listdir\n",
    "from os.path import isfile, join\n",
    "quantity_support()\n",
    "%matplotlib inline"
   ]
  },
  {
   "cell_type": "code",
   "execution_count": 44,
   "metadata": {
    "collapsed": false
   },
   "outputs": [],
   "source": [
    "path = r'F:\\mugdhapolimera\\Documents\\UNC\\Research\\Data\\RESOLVE\\SDSS_spectra_fits'\n",
    "os.chdir(path)\n",
    "\n",
    "filenames = []\n",
    "for (dirpath, dirnames, filelist) in os.walk(path):\n",
    "    filenames += [os.path.join(dirpath, file) for file in filelist]\n",
    "\n",
    "speclist = np.loadtxt('F:\\mugdhapolimera\\Documents\\UNC\\Research\\Data\\RESOLVE\\SDSS_spectra_fits\\speclist.txt',dtype = str)\n",
    "resname = pd.read_csv(filenames[0])\n",
    "datalist = pd.Series(index = list(resname['name']))#,columns=['filename'])\n",
    "\n",
    "for i in range(2,len(speclist)): \n",
    "    datalist.loc[resname['name'][i-2]] = (os.path.join(path,speclist[i]).replace(\"\\\\\",\"/\")).replace(\"/\",\"\\\\\")\n",
    "    \n",
    "resolve = pd.read_pickle('C:\\Users\\mugdhapolimera\\github\\SDSS_spectra\\RESOLVE_filter.pkl')\n",
    "filenames = []\n",
    "for name in resolve['NAME']:\n",
    "    filenames.append(datalist[name])\n",
    "    \n",
    "filename = filenames[0]\n",
    "# The spectrum is in the second HDU of this file.\n",
    "f = fits.open(filename)\n",
    "specdata = f[1].data # doctest: +REMOTE_DATA\n",
    "f.close()"
   ]
  },
  {
   "cell_type": "code",
   "execution_count": null,
   "metadata": {
    "collapsed": false
   },
   "outputs": [],
   "source": [
    "from specutils import Spectrum1D\n",
    "lamb = 10**specdata['loglam'] * u.AA # doctest: +REMOTE_DATA\n",
    "flux = specdata['flux'] * 10**-17 * u.Unit('erg cm-2 s-1 AA-1') # doctest: +REMOTE_DATA\n",
    "spec = Spectrum1D(flux=flux, spectral_axis=lamb ) # doctest: +REMOTE_DATA\n",
    "lines = plt.step(spec.spectral_axis, spec.flux) # doctest: +REMOTE_DATA"
   ]
  },
  {
   "cell_type": "code",
   "execution_count": null,
   "metadata": {
    "collapsed": false
   },
   "outputs": [],
   "source": [
    "plt.plot(lamb,flux)\n",
    "from specutils.fitting import fit_generic_continuum\n",
    "cont_norm_spec = spec / fit_generic_continuum(spec)(spec.spectral_axis) # doctest: +REMOTE_DATA\n",
    "lines = plt.step(cont_norm_spec.wavelength, cont_norm_spec.flux) # doctest: +REMOTE_DATA\n",
    "plt.xlim(654*u.nm, 660*u.nm)  "
   ]
  },
  {
   "cell_type": "code",
   "execution_count": null,
   "metadata": {
    "collapsed": true
   },
   "outputs": [],
   "source": []
  }
 ],
 "metadata": {
  "kernelspec": {
   "display_name": "Python 2",
   "language": "python",
   "name": "python2"
  },
  "language_info": {
   "codemirror_mode": {
    "name": "ipython",
    "version": 2
   },
   "file_extension": ".py",
   "mimetype": "text/x-python",
   "name": "python",
   "nbconvert_exporter": "python",
   "pygments_lexer": "ipython2",
   "version": "2.7.13"
  }
 },
 "nbformat": 4,
 "nbformat_minor": 0
}
