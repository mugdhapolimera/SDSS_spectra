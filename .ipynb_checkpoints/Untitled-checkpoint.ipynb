{
 "cells": [
  {
   "cell_type": "code",
   "execution_count": 1,
   "metadata": {
    "collapsed": false
   },
   "outputs": [
    {
     "name": "stderr",
     "output_type": "stream",
     "text": [
      "C:\\Anaconda2\\lib\\site-packages\\pandas\\core\\computation\\check.py:17: UserWarning: The installed version of numexpr 2.4.4 is not supported in pandas and will be not be used\n",
      "The minimum supported version is 2.4.6\n",
      "\n",
      "  ver=ver, min_ver=_MIN_NUMEXPR_VERSION), UserWarning)\n",
      "C:\\Anaconda2\\lib\\site-packages\\ipykernel\\__main__.py:51: VisibleDeprecationWarning: Reading unicode strings without specifying the encoding argument is deprecated. Set the encoding, use None for the system default.\n",
      "C:\\Anaconda2\\lib\\site-packages\\ipykernel\\__main__.py:53: VisibleDeprecationWarning: Reading unicode strings without specifying the encoding argument is deprecated. Set the encoding, use None for the system default.\n"
     ]
    },
    {
     "data": {
      "text/plain": [
       "[<matplotlib.lines.Line2D at 0x98e8dd8>]"
      ]
     },
     "execution_count": 1,
     "metadata": {},
     "output_type": "execute_result"
    }
   ],
   "source": [
    "# -*- coding: utf-8 -*-\n",
    "\"\"\"\n",
    "Created on Wed Dec 12 20:56:19 2018\n",
    "\n",
    "@author: mugdhapolimera\n",
    "\"\"\"\n",
    "\n",
    "import pandas as pd\n",
    "import numpy as np\n",
    "import matplotlib.pyplot as plt\n",
    "%matplotlib qt\n",
    "rdat = pd.read_csv(\"C:/Users/mugdhapolimera/github/SDSS_Spectra/RESOLVE_bpt1_filter.csv\")\n",
    "# a simple Te method calib. is the NII/Halpha PP04, for ???2.5 < N2 < ???0.3\n",
    "# Pettini & Pagel 2004\n",
    "\n",
    "N2 = np.log10(rdat.nii_6584_flux/rdat.h_alpha_flux)\n",
    "\n",
    "#selgd<-which(N2>(-2.5) & N2<(-0.3))\n",
    "selbd = ((N2<-2.5) | (N2>-0.3))\n",
    "PP04_12logOH = 9.37+2.03*N2+1.26*N2**2+0.32*N2**3\n",
    "rep = np.isnan(PP04_12logOH)\n",
    "PP04_12logOH[rep] = (-99.)\n",
    "PP04_12logOH[selbd] = (-99.)\n",
    "\n",
    "# alternative PP04 calib using O3, hbeta, and N, Halpha\n",
    "O3N2 = np.log10((rdat.oiii_5007_flux/rdat.h_beta_flux)/(rdat.nii_6584_flux/rdat.h_alpha_flux))\n",
    "\n",
    "PP04_12logOH_v2 = 8.73-0.32*O3N2\n",
    "\n",
    "rep = np.isnan(PP04_12logOH_v2)\n",
    "PP04_12logOH_v2[rep] = (-99.)\n",
    "selbd = (O3N2 > 1.9) # supposedly this calibration is bad in this regime, don't use those values\n",
    "PP04_12logOH_v2[selbd] = (-99.)\n",
    "\n",
    "plt.plot(PP04_12logOH, PP04_12logOH_v2,'o')\n",
    "plt.xlabel(\"[NII]/Halpha Z\")\n",
    "plt.ylabel(\"[OIII]/Hbeta &[NII]/Halpha Z\")\n",
    "plt.xlim(7.5,10.5)\n",
    "plt.ylim(7.5,10.5)\n",
    "plt.plot(np.arange(7.5,11),np.arange(7.5,11), \"r\")\n",
    "\n",
    "\n",
    "\n",
    "#out<-cbind(as.vector(rdat[,\"NAME\"]), PP04_12logOH, PP04_12logOH_v2)\n",
    "\n",
    "#write.csv(out, \"RES_PP04Zest.csv\", row.names=FALSE, quote=FALSE)\n",
    "\n",
    "\n"
   ]
  },
  {
   "cell_type": "code",
   "execution_count": null,
   "metadata": {
    "collapsed": true
   },
   "outputs": [],
   "source": [
    "\n",
    "iziout = np.genfromtxt(\"C:/Users/mugdhapolimera/github/SDSS_Spectra/RESOLVE_NB_bpt1filter_SEL.txt\", dtype = None, names = [\"name\", \n",
    "                                                                                         \"Estimate\", \"err_up\", \"err_down\"])\n",
    "iziout2 = np.genfromtxt(\"C:/Users/mugdhapolimera/github/SDSS_Spectra/RESOLVE_NB_bpt1filter_nobalmer.txt\", dtype = None, names = [\"name\", \n",
    "                                                                                         \"Estimate\", \"err_up\", \"err_down\"])\n",
    "\n",
    "matchi = np.arange(913)\n",
    "#np.where(i for i in range(len(iziout)) if rdat.name[i] in iziout[\"name\"])\n",
    "#PP04_12logOH\n",
    "\n",
    "#png(file=\"ResZcomp_PP04.png\", width=6, height=6, units=\"in\", res=200)\n",
    "\n",
    "gdpts= ~(np.isnan(matchi))\n",
    "\n",
    "plt.figure()\n",
    "plt.plot(PP04_12logOH[matchi[gdpts]], iziout[gdpts][\"Estimate\"], 'ko', alpha = 0.25)\n",
    "plt.xlim(7.5,9)\n",
    "plt.ylim(7.5,9)\n",
    "plt.title(\"NB vs PP04 - All Lines\")\n",
    "plt.ylabel(\"12 + log(O/H)  [NebulaBayes]\")\n",
    "plt.xlabel(\"12 + log(O/H)  [PP04]\")\n",
    "plt.plot(np.arange(7.5,11),np.arange(7.5,11), \"r\")\n",
    "\n",
    "plt.figure()\n",
    "plt.plot(PP04_12logOH[matchi[gdpts]], iziout2[gdpts][\"Estimate\"], 'ko', alpha = 0.25)\n",
    "plt.xlim(7.5,9)\n",
    "plt.ylim(7.5,9)\n",
    "plt.title(\"NB vs PP04 - Only SEL\")\n",
    "plt.ylabel(\"12 + log(O/H)  [NebulaBayes]\")\n",
    "plt.xlabel(\"12 + log(O/H)  [PP04]\")\n",
    "plt.plot(np.arange(7.5,11),np.arange(7.5,11), \"r\")\n"
   ]
  },
  {
   "cell_type": "code",
   "execution_count": 4,
   "metadata": {
    "collapsed": false
   },
   "outputs": [],
   "source": [
    "res = pd.read_csv(\"C:/Users/mugdhapolimera/github/nebulabayes/results_izi_bpt1filter_SEL_noprior/RESOLVE_param_estimates.csv\")\n",
    "res = res[res[\"Parameter\"] == \"LOGZ\"]\n",
    "#res['CI68_low'] = res['CI68_low'].replace(['#NAME?'], float(-1000000000))\n",
    "#print type(res['CI68_low'][289])\n",
    "res_text = np.column_stack((res[\"Galaxy Name\"],res[\"Estimate\"],res[\"CI68_high\"]-res[\"Estimate\"], err_down)) \n",
    "#res[\"Estimate\"]-res[\"CI68_low\"]))\n",
    "np.savetxt(\"C:/Users/mugdhapolimera/github/SDSS_Spectra/RESOLVE_NB_bpt1filter_SEL.txt\",res_text, fmt = '%s %f %f %f')"
   ]
  },
  {
   "cell_type": "code",
   "execution_count": 3,
   "metadata": {
    "collapsed": false
   },
   "outputs": [],
   "source": [
    "err_down = np.zeros(len(res))\n",
    "for i in range(1,len(res),2):\n",
    "    err_down[i] = float(res[\"Estimate\"][i]) - float(res[\"CI68_low\"][i])"
   ]
  },
  {
   "cell_type": "code",
   "execution_count": 87,
   "metadata": {
    "collapsed": false
   },
   "outputs": [
    {
     "data": {
      "text/plain": [
       "913"
      ]
     },
     "execution_count": 87,
     "metadata": {},
     "output_type": "execute_result"
    }
   ],
   "source": [
    "len(res)"
   ]
  },
  {
   "cell_type": "code",
   "execution_count": 57,
   "metadata": {
    "collapsed": false
   },
   "outputs": [
    {
     "name": "stdout",
     "output_type": "stream",
     "text": [
      "[7.98018 8.01287 8.04557 8.07826 8.11096 8.14365 8.17635 8.20904 8.24174\n",
      " 8.27443 8.30713 8.33982 8.37252 8.40521 8.43791 8.4706  8.5033  8.53599\n",
      " 8.56869 8.60138 8.66677 8.69947 8.73216 8.79755 8.83025]\n"
     ]
    }
   ],
   "source": [
    "res['CI68_low'] = res['CI68_low'].replace(['-np.inf'], float('inf'))\n",
    "print np.unique(res['CI68_low'])"
   ]
  },
  {
   "cell_type": "code",
   "execution_count": 54,
   "metadata": {
    "collapsed": false
   },
   "outputs": [
    {
     "ename": "TypeError",
     "evalue": "ufunc 'subtract' did not contain a loop with signature matching types dtype('S32') dtype('S32') dtype('S32')",
     "output_type": "error",
     "traceback": [
      "\u001b[1;31m---------------------------------------------------------------------------\u001b[0m",
      "\u001b[1;31mTypeError\u001b[0m                                 Traceback (most recent call last)",
      "\u001b[1;32m<ipython-input-54-f5e69ce1ea9f>\u001b[0m in \u001b[0;36m<module>\u001b[1;34m()\u001b[0m\n\u001b[1;32m----> 1\u001b[1;33m \u001b[1;32mprint\u001b[0m \u001b[0mres\u001b[0m\u001b[1;33m[\u001b[0m\u001b[1;34m\"CI68_low\"\u001b[0m\u001b[1;33m]\u001b[0m\u001b[1;33m-\u001b[0m\u001b[0mres\u001b[0m\u001b[1;33m[\u001b[0m\u001b[1;34m\"Estimate\"\u001b[0m\u001b[1;33m]\u001b[0m\u001b[1;33m\u001b[0m\u001b[0m\n\u001b[0m",
      "\u001b[1;32mC:\\Anaconda2\\lib\\site-packages\\pandas\\core\\ops.pyc\u001b[0m in \u001b[0;36mwrapper\u001b[1;34m(left, right)\u001b[0m\n\u001b[0;32m   1067\u001b[0m             \u001b[0mrvalues\u001b[0m \u001b[1;33m=\u001b[0m \u001b[0mrvalues\u001b[0m\u001b[1;33m.\u001b[0m\u001b[0mvalues\u001b[0m\u001b[1;33m\u001b[0m\u001b[0m\n\u001b[0;32m   1068\u001b[0m \u001b[1;33m\u001b[0m\u001b[0m\n\u001b[1;32m-> 1069\u001b[1;33m         \u001b[0mresult\u001b[0m \u001b[1;33m=\u001b[0m \u001b[0msafe_na_op\u001b[0m\u001b[1;33m(\u001b[0m\u001b[0mlvalues\u001b[0m\u001b[1;33m,\u001b[0m \u001b[0mrvalues\u001b[0m\u001b[1;33m)\u001b[0m\u001b[1;33m\u001b[0m\u001b[0m\n\u001b[0m\u001b[0;32m   1070\u001b[0m         return construct_result(left, result,\n\u001b[0;32m   1071\u001b[0m                                 index=left.index, name=res_name, dtype=None)\n",
      "\u001b[1;32mC:\\Anaconda2\\lib\\site-packages\\pandas\\core\\ops.pyc\u001b[0m in \u001b[0;36msafe_na_op\u001b[1;34m(lvalues, rvalues)\u001b[0m\n\u001b[0;32m   1035\u001b[0m             \u001b[1;32mif\u001b[0m \u001b[0mis_object_dtype\u001b[0m\u001b[1;33m(\u001b[0m\u001b[0mlvalues\u001b[0m\u001b[1;33m)\u001b[0m\u001b[1;33m:\u001b[0m\u001b[1;33m\u001b[0m\u001b[0m\n\u001b[0;32m   1036\u001b[0m                 return libalgos.arrmap_object(lvalues,\n\u001b[1;32m-> 1037\u001b[1;33m                                               lambda x: op(x, rvalues))\n\u001b[0m\u001b[0;32m   1038\u001b[0m             \u001b[1;32mraise\u001b[0m\u001b[1;33m\u001b[0m\u001b[0m\n\u001b[0;32m   1039\u001b[0m \u001b[1;33m\u001b[0m\u001b[0m\n",
      "\u001b[1;32mpandas\\_libs\\algos_common_helper.pxi\u001b[0m in \u001b[0;36mpandas._libs.algos.arrmap_object\u001b[1;34m()\u001b[0m\n",
      "\u001b[1;32mC:\\Anaconda2\\lib\\site-packages\\pandas\\core\\ops.pyc\u001b[0m in \u001b[0;36m<lambda>\u001b[1;34m(x)\u001b[0m\n\u001b[0;32m   1035\u001b[0m             \u001b[1;32mif\u001b[0m \u001b[0mis_object_dtype\u001b[0m\u001b[1;33m(\u001b[0m\u001b[0mlvalues\u001b[0m\u001b[1;33m)\u001b[0m\u001b[1;33m:\u001b[0m\u001b[1;33m\u001b[0m\u001b[0m\n\u001b[0;32m   1036\u001b[0m                 return libalgos.arrmap_object(lvalues,\n\u001b[1;32m-> 1037\u001b[1;33m                                               lambda x: op(x, rvalues))\n\u001b[0m\u001b[0;32m   1038\u001b[0m             \u001b[1;32mraise\u001b[0m\u001b[1;33m\u001b[0m\u001b[0m\n\u001b[0;32m   1039\u001b[0m \u001b[1;33m\u001b[0m\u001b[0m\n",
      "\u001b[1;31mTypeError\u001b[0m: ufunc 'subtract' did not contain a loop with signature matching types dtype('S32') dtype('S32') dtype('S32')"
     ]
    }
   ],
   "source": [
    "print res[\"CI68_low\"]-res[\"Estimate\"]"
   ]
  },
  {
   "cell_type": "code",
   "execution_count": null,
   "metadata": {
    "collapsed": true
   },
   "outputs": [],
   "source": []
  }
 ],
 "metadata": {
  "kernelspec": {
   "display_name": "Python 2",
   "language": "python",
   "name": "python2"
  },
  "language_info": {
   "codemirror_mode": {
    "name": "ipython",
    "version": 2
   },
   "file_extension": ".py",
   "mimetype": "text/x-python",
   "name": "python",
   "nbconvert_exporter": "python",
   "pygments_lexer": "ipython2",
   "version": "2.7.13"
  }
 },
 "nbformat": 4,
 "nbformat_minor": 0
}
